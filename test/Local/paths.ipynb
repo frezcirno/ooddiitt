{
 "cells": [
  {
   "cell_type": "code",
   "execution_count": 1,
   "metadata": {
    "collapsed": true
   },
   "outputs": [],
   "source": [
    "from collections import defaultdict\n",
    "import json\n",
    "import os"
   ]
  },
  {
   "cell_type": "code",
   "execution_count": 2,
   "metadata": {
    "collapsed": true
   },
   "outputs": [],
   "source": [
    "def is_covered_by_trace(path, trace):\n",
    "    \n",
    "    width = len(path)\n",
    "    num_slices = len(trace) - width + 1\n",
    "    if num_slices > 0:\n",
    "        for start in range(0, num_slices):\n",
    "            slice = trace[start:start + width]\n",
    "            if path == slice:\n",
    "                return True\n",
    "    return False\n",
    "\n",
    "def is_covered_by_traces(path, traces):\n",
    "    \n",
    "    for trace in traces:\n",
    "        if is_covered_by_trace(path, trace):\n",
    "            return True\n",
    "    return False\n",
    "            \n",
    "def remove_covered_paths(paths, traces):\n",
    "    \n",
    "    result = []\n",
    "    for path in paths:\n",
    "        if not is_covered_by_traces(path, traces):\n",
    "            if not path in result:\n",
    "                result.append(path)\n",
    "    return result\n",
    "\n",
    "def show_paths(collection, fn):\n",
    "    paths = collection[fn]\n",
    "    print(fn, ', #paths = ', len(paths), sep='')\n",
    "    for path in paths:\n",
    "        print(path)\n",
    "\n",
    "def show_all_paths(collection):\n",
    "    \n",
    "    for fn in collection:\n",
    "        show_paths(collection, fn)"
   ]
  },
  {
   "cell_type": "code",
   "execution_count": 3,
   "metadata": {
    "collapsed": true
   },
   "outputs": [],
   "source": [
    "progDB = None\n",
    "with open('replace.json') as infile:\n",
    "    progDB = json.load(infile)   "
   ]
  },
  {
   "cell_type": "code",
   "execution_count": 4,
   "metadata": {
    "collapsed": true
   },
   "outputs": [],
   "source": [
    "m2m_paths = []\n",
    "for function in progDB[\"functions\"]:\n",
    "    if not function == 'main':\n",
    "        for path in progDB[\"functions\"][function][\"m2m_paths\"]:\n",
    "            m2m_paths.append(path)\n"
   ]
  },
  {
   "cell_type": "code",
   "execution_count": 67,
   "metadata": {
    "collapsed": true
   },
   "outputs": [],
   "source": [
    "ktests = []\n",
    "for file in os.listdir(\"klee-last\"):\n",
    "    if file.endswith(\".json\"):\n",
    "        with open(os.path.join(\"klee-last\", file)) as infile:\n",
    "            ktests.append(json.load(infile))\n",
    "    "
   ]
  },
  {
   "cell_type": "code",
   "execution_count": 68,
   "metadata": {
    "collapsed": true
   },
   "outputs": [],
   "source": [
    "traces = []\n",
    "for ktest in ktests:\n",
    "    traces.append(ktest['markerPath'])\n"
   ]
  },
  {
   "cell_type": "code",
   "execution_count": 70,
   "metadata": {},
   "outputs": [
    {
     "name": "stdout",
     "output_type": "stream",
     "text": [
      "#uncovered fn: 5\n",
      "fnID: 16 len = 5\n",
      "  [16011, 16012, 16016, 16002]\n",
      "  [16017, 16019]\n",
      "  [16019, 16002]\n",
      "  [16013, 16015, 16011]\n",
      "  [16008, 16006]\n",
      "fnID: 9 len = 33\n",
      "  [9002, 9003, 9004, 9005, 9006]\n",
      "  [9006, 9021, 9022, 9002]\n",
      "  [9006, 9021, 9002]\n",
      "  [9002, 9003, 9004, 9005, 9007, 9008, 9009]\n",
      "  [9009, 9021, 9022, 9002]\n",
      "  [9009, 9021, 9002]\n",
      "  [9002, 9003, 9004, 9005, 9007, 9008, 9010, 9011, 9012]\n",
      "  [9012, 9021, 9022, 9002]\n",
      "  [9012, 9021, 9002]\n",
      "  [9002, 9003, 9004, 9005, 9007, 9008, 9010, 9011, 9013, 9014]\n",
      "  [9014, 9021, 9022, 9002]\n",
      "  [9002, 9003, 9004, 9005, 9007, 9008, 9010, 9011, 9013, 9015, 9016, 9017]\n",
      "  [9017, 9018, 9021, 9022, 9002]\n",
      "  [9017, 9018, 9021, 9002]\n",
      "  [9017, 9019]\n",
      "  [9019, 9021, 9022, 9002]\n",
      "  [9019, 9021, 9002]\n",
      "  [9002, 9003, 9004, 9005, 9007, 9008, 9010, 9011, 9013, 9015, 9016, 9020]\n",
      "  [9020, 9021, 9022, 9002]\n",
      "  [9020, 9021, 9002]\n",
      "  [9002, 9003, 9004, 9005, 9007, 9008, 9010, 9011, 9013, 9015, 9020]\n",
      "  [9002, 9003, 9004, 9005, 9007, 9008, 9010, 9013, 9014]\n",
      "  [9002, 9003, 9004, 9005, 9007, 9008, 9010, 9013, 9015, 9016, 9017]\n",
      "  [9002, 9003, 9004, 9005, 9007, 9008, 9010, 9013, 9015, 9016, 9020]\n",
      "  [9002, 9003, 9004, 9005, 9007, 9008, 9010, 9013, 9015, 9020]\n",
      "  [9002, 9003, 9004, 9005, 9007, 9010, 9011, 9012]\n",
      "  [9002, 9003, 9004, 9005, 9007, 9010, 9011, 9013, 9014]\n",
      "  [9002, 9003, 9004, 9005, 9007, 9010, 9011, 9013, 9015, 9016, 9017]\n",
      "  [9002, 9003, 9004, 9005, 9007, 9010, 9011, 9013, 9015, 9016, 9020]\n",
      "  [9002, 9003, 9004, 9005, 9007, 9010, 9011, 9013, 9015, 9020]\n",
      "  [9002, 9003, 9004, 9005, 9007, 9010, 9013, 9015, 9016, 9017]\n",
      "  [9002, 9003, 9004, 9005, 9007, 9010, 9013, 9015, 9016, 9020]\n",
      "  [9002, 9003, 9004, 9005, 9007, 9010, 9013, 9015, 9020]\n",
      "fnID: 11 len = 2\n",
      "  [11002, 11003, 11008, 11010]\n",
      "  [11002, 11008, 11009, 11013]\n",
      "fnID: 14 len = 15\n",
      "  [14001, 14002, 14020, 14021, 14023]\n",
      "  [14016, 14017, 14020, 14022, 14023]\n",
      "  [14016, 14020, 14021, 14023]\n",
      "  [14003, 14019, 14015, 14020, 14021, 14023]\n",
      "  [14013, 14014, 14020, 14022, 14023]\n",
      "  [14013, 14020, 14021, 14023]\n",
      "  [14003, 14019, 14011, 14012, 14020, 14022, 14023]\n",
      "  [14003, 14019, 14011, 14020, 14021, 14023]\n",
      "  [14003, 14019, 14009, 14010, 14020, 14022, 14023]\n",
      "  [14003, 14019, 14009, 14020, 14021, 14023]\n",
      "  [14003, 14019, 14007, 14008, 14020, 14022, 14023]\n",
      "  [14003, 14019, 14007, 14020, 14021, 14023]\n",
      "  [14003, 14019, 14005, 14006, 14020, 14022, 14023]\n",
      "  [14003, 14019, 14005, 14020, 14021, 14023]\n",
      "  [14018, 14020, 14021, 14023]\n",
      "fnID: 18 len = 5\n",
      "  [18005, 18006, 18008, 18002]\n",
      "  [18003, 18004, 18006, 18008, 18002]\n",
      "  [18003, 18004, 18006, 18007, 18008, 18002]\n",
      "  [18003, 18004, 18006, 18007, 18009, 18002]\n",
      "  [18003, 18006, 18007, 18008, 18002]\n"
     ]
    }
   ],
   "source": [
    "uncovered = defaultdict(lambda: [])\n",
    "\n",
    "for path in m2m_paths:\n",
    "    if not is_covered_by_traces(path, traces):\n",
    "        fnID = int(path[0] / 1000)\n",
    "        uncovered[fnID].append(path)\n",
    "\n",
    "print(\"#uncovered fn:\", len(uncovered))\n",
    "for fn in uncovered:\n",
    "    print(\"fnID:\", fn, \"len =\", len(uncovered[fn]))\n",
    "    for path in uncovered[fn]:\n",
    "        print(\" \", path)\n",
    " \n"
   ]
  },
  {
   "cell_type": "code",
   "execution_count": 71,
   "metadata": {
    "collapsed": true
   },
   "outputs": [],
   "source": [
    "omatch1 = [[14001, 14002, 14020, 14021, 14023],\n",
    "[14018, 14020, 14021, 14023],\n",
    "[14016, 14017, 14020, 14022, 14023],\n",
    "[14016, 14020, 14021, 14023],\n",
    "[14003, 14019, 14015, 14020, 14021, 14023],\n",
    "[14003, 14019, 14009, 14020, 14021, 14023],\n",
    "[14003, 14019, 14009, 14010, 14020, 14022, 14023],\n",
    "[14013, 14014, 14020, 14022, 14023],\n",
    "[14013, 14020, 14021, 14023],\n",
    "[14003, 14019, 14005, 14020, 14021, 14023],\n",
    "[14003, 14019, 14005, 14006, 14020, 14022, 14023],\n",
    "[14003, 14019, 14011, 14012, 14020, 14022, 14023],\n",
    "[14003, 14019, 14011, 14020, 14021, 14023],\n",
    "[14003, 14019, 14007, 14008, 14020, 14022, 14023],\n",
    "[14003, 14019, 14007, 14020, 14021, 14023]]\n"
   ]
  },
  {
   "cell_type": "code",
   "execution_count": 72,
   "metadata": {
    "collapsed": true
   },
   "outputs": [],
   "source": [
    "makepat1 = [\n",
    "[9006, 9021, 9002],\n",
    "[9009, 9021, 9002],\n",
    "[9002, 9003, 9004, 9005, 9007, 9008, 9010, 9011, 9012],\n",
    "[9012, 9021, 9002],\n",
    "[9002, 9003, 9004, 9005, 9007, 9008, 9010, 9011, 9013, 9014],\n",
    "[9002, 9003, 9004, 9005, 9007, 9008, 9010, 9011, 9013, 9015, 9020],\n",
    "[9020, 9021, 9002],\n",
    "[9002, 9003, 9004, 9005, 9007, 9008, 9010, 9011, 9013, 9015, 9016, 9017],\n",
    "[9017, 9018, 9021, 9002],\n",
    "[9017, 9018, 9021, 9022, 9002],\n",
    "[9017, 9019],\n",
    "[9019, 9021, 9002],\n",
    "[9019, 9021, 9022, 9002],\n",
    "[9002, 9003, 9004, 9005, 9007, 9008, 9010, 9011, 9013, 9015, 9016, 9020],\n",
    "[9002, 9003, 9004, 9005, 9007, 9008, 9010, 9013, 9014],\n",
    "[9002, 9003, 9004, 9005, 9007, 9008, 9010, 9013, 9015, 9020],\n",
    "[9002, 9003, 9004, 9005, 9007, 9008, 9010, 9013, 9015, 9016, 9017],\n",
    "[9002, 9003, 9004, 9005, 9007, 9008, 9010, 9013, 9015, 9016, 9020],\n",
    "[9002, 9003, 9004, 9005, 9007, 9010, 9011, 9013, 9014],\n",
    "[9002, 9003, 9004, 9005, 9007, 9010, 9011, 9013, 9015, 9016, 9017],\n",
    "[9002, 9003, 9004, 9005, 9007, 9010, 9011, 9013, 9015, 9016, 9020],\n",
    "[9002, 9003, 9004, 9005, 9007, 9010, 9013, 9015, 9016, 9017],    \n",
    "]"
   ]
  },
  {
   "cell_type": "code",
   "execution_count": 73,
   "metadata": {},
   "outputs": [
    {
     "name": "stdout",
     "output_type": "stream",
     "text": [
      "omatch1 = 15 : omatch2 = 15\n"
     ]
    }
   ],
   "source": [
    "omatch2 = uncovered[14]\n",
    "print(\"omatch1 =\", len(omatch1), \": omatch2 =\", len(omatch2))"
   ]
  },
  {
   "cell_type": "code",
   "execution_count": 74,
   "metadata": {},
   "outputs": [
    {
     "name": "stdout",
     "output_type": "stream",
     "text": [
      "makepat1 = 22 : makepat2 = 33\n"
     ]
    }
   ],
   "source": [
    "makepat2 = uncovered[9]\n",
    "print(\"makepat1 =\", len(makepat1), \": makepat2 =\", len(makepat2))"
   ]
  },
  {
   "cell_type": "code",
   "execution_count": 75,
   "metadata": {
    "collapsed": true
   },
   "outputs": [],
   "source": [
    "for x in omatch2:\n",
    "    if x not in omatch1:\n",
    "        print(x)"
   ]
  },
  {
   "cell_type": "code",
   "execution_count": 76,
   "metadata": {},
   "outputs": [
    {
     "name": "stdout",
     "output_type": "stream",
     "text": [
      "[9002, 9003, 9004, 9005, 9006]\n",
      "[9006, 9021, 9022, 9002]\n",
      "[9002, 9003, 9004, 9005, 9007, 9008, 9009]\n",
      "[9009, 9021, 9022, 9002]\n",
      "[9012, 9021, 9022, 9002]\n",
      "[9014, 9021, 9022, 9002]\n",
      "[9020, 9021, 9022, 9002]\n",
      "[9002, 9003, 9004, 9005, 9007, 9010, 9011, 9012]\n",
      "[9002, 9003, 9004, 9005, 9007, 9010, 9011, 9013, 9015, 9020]\n",
      "[9002, 9003, 9004, 9005, 9007, 9010, 9013, 9015, 9016, 9020]\n",
      "[9002, 9003, 9004, 9005, 9007, 9010, 9013, 9015, 9020]\n"
     ]
    }
   ],
   "source": [
    "for x in makepat2:\n",
    "    if x not in makepat1:\n",
    "        print(x)"
   ]
  },
  {
   "cell_type": "code",
   "execution_count": 5,
   "metadata": {
    "collapsed": true
   },
   "outputs": [],
   "source": [
    "m2m_paths = defaultdict(lambda: [])\n",
    "for function in progDB[\"functions\"]:\n",
    "    if not function == 'main':\n",
    "        for path in progDB[\"functions\"][function][\"m2m_paths\"]:\n",
    "            m2m_paths[function].append(path)"
   ]
  },
  {
   "cell_type": "code",
   "execution_count": 8,
   "metadata": {},
   "outputs": [
    {
     "name": "stdout",
     "output_type": "stream",
     "text": [
      "getpat : 1\n",
      "getsub : 1\n",
      "esc : 5\n",
      "makesub : 11\n",
      "change : 4\n",
      "in_set_2 : 3\n",
      "in_pat_set : 7\n",
      "my_getline : 1\n",
      "getccl : 4\n",
      "putsub : 6\n",
      "addstr : 2\n",
      "Caseerror : 1\n",
      "stclose : 4\n",
      "locate : 4\n",
      "omatch : 22\n",
      "makepat : 43\n",
      "amatch : 19\n",
      "dodash : 18\n",
      "subline : 13\n",
      "patsize : 7\n"
     ]
    }
   ],
   "source": [
    "for fn in m2m_paths:\n",
    "    print(fn, \":\", len(m2m_paths[fn]))"
   ]
  },
  {
   "cell_type": "code",
   "execution_count": 11,
   "metadata": {},
   "outputs": [
    {
     "name": "stdout",
     "output_type": "stream",
     "text": [
      "[18011, 18010]\n",
      "[18010, 18001]\n",
      "[18010, 18009]\n",
      "[18009, 18006, 18004, 18010]\n",
      "[18009, 18006, 18005, 18003, 18010]\n",
      "[18009, 18006, 18005, 18004, 18010]\n",
      "[18009, 18008, 18006, 18004, 18010]\n",
      "[18009, 18008, 18006, 18005, 18003, 18010]\n",
      "[18009, 18008, 18006, 18005, 18004, 18010]\n",
      "[18009, 18008, 18007]\n",
      "[18007, 18006, 18004, 18010]\n",
      "[18007, 18006, 18005, 18003, 18010]\n",
      "[18007, 18006, 18005, 18004, 18010]\n"
     ]
    }
   ],
   "source": [
    "fn = \"subline\"\n",
    "for p in m2m_paths[fn]:\n",
    "    print(p)"
   ]
  },
  {
   "cell_type": "code",
   "execution_count": null,
   "metadata": {
    "collapsed": true
   },
   "outputs": [],
   "source": []
  }
 ],
 "metadata": {
  "kernelspec": {
   "display_name": "Python [default]",
   "language": "python",
   "name": "python3"
  },
  "language_info": {
   "codemirror_mode": {
    "name": "ipython",
    "version": 3
   },
   "file_extension": ".py",
   "mimetype": "text/x-python",
   "name": "python",
   "nbconvert_exporter": "python",
   "pygments_lexer": "ipython3",
   "version": "3.5.3"
  }
 },
 "nbformat": 4,
 "nbformat_minor": 2
}
