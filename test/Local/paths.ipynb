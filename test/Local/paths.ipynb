{
 "cells": [
  {
   "cell_type": "code",
   "execution_count": 5,
   "metadata": {
    "collapsed": true
   },
   "outputs": [],
   "source": [
    "from collections import defaultdict\n",
    "import json\n",
    "import os"
   ]
  },
  {
   "cell_type": "code",
   "execution_count": 20,
   "metadata": {
    "collapsed": true
   },
   "outputs": [],
   "source": [
    "def is_covered_by_trace(path, trace):\n",
    "    \n",
    "    width = len(path)\n",
    "    num_slices = len(trace) - width + 1\n",
    "    if num_slices > 0:\n",
    "        for start in range(0, num_slices):\n",
    "            slice = trace[start:start + width]\n",
    "            if path == slice:\n",
    "                return True\n",
    "    return False\n",
    "\n",
    "def is_covered_by_traces(path, traces):\n",
    "    \n",
    "    for trace in traces:\n",
    "        if is_covered_by_trace(path, trace):\n",
    "            return True\n",
    "    return False\n",
    "            \n",
    "def remove_covered_paths(paths, traces):\n",
    "    \n",
    "    result = []\n",
    "    for path in paths:\n",
    "        if not is_covered_by_traces(path, traces):\n",
    "            if not path in result:\n",
    "                result.append(path)\n",
    "    return result\n",
    "\n",
    "def show_paths(collection, fn):\n",
    "    paths = collection[fn]\n",
    "    print(fn, ', #paths = ', len(paths), sep='')\n",
    "    for path in paths:\n",
    "        print(path)\n",
    "\n",
    "def show_all_paths(collection):\n",
    "    \n",
    "    for fn in collection:\n",
    "        show_paths(collection, fn)"
   ]
  },
  {
   "cell_type": "code",
   "execution_count": 21,
   "metadata": {
    "collapsed": true
   },
   "outputs": [],
   "source": [
    "progDB = None\n",
    "with open('replace.json') as infile:\n",
    "    progDB = json.load(infile)   "
   ]
  },
  {
   "cell_type": "code",
   "execution_count": 22,
   "metadata": {},
   "outputs": [],
   "source": [
    "ktests = []\n",
    "for file in os.listdir(\"klee-last\"):\n",
    "    if file.endswith(\".json\"):\n",
    "        with open(os.path.join(\"klee-last\", file)) as infile:\n",
    "            ktests.append(json.load(infile))\n",
    "    "
   ]
  },
  {
   "cell_type": "code",
   "execution_count": 23,
   "metadata": {},
   "outputs": [],
   "source": [
    "traces = []\n",
    "for ktest in ktests:\n",
    "    traces.append(ktest['markerPath'])\n"
   ]
  },
  {
   "cell_type": "code",
   "execution_count": 28,
   "metadata": {},
   "outputs": [],
   "source": [
    "m2m_paths = []\n",
    "for function in progDB[\"functions\"]:\n",
    "    if not function == 'main':\n",
    "        for path in progDB[\"functions\"][function][\"m2m_paths\"]:\n",
    "            m2m_paths.append(path)\n"
   ]
  },
  {
   "cell_type": "code",
   "execution_count": 29,
   "metadata": {},
   "outputs": [
    {
     "name": "stdout",
     "output_type": "stream",
     "text": [
      "[16022, 16001]\n",
      "[16018, 16013, 16012]\n",
      "[16012, 16011, 16006, 16022]\n",
      "[16012, 16006, 16022]\n",
      "[9029, 9007]\n",
      "[9007, 9005, 9001]\n",
      "[9029, 9028, 9027, 9026, 9024, 9021, 9020, 9018, 9016, 9015, 9011]\n",
      "[9011, 9010, 9029]\n",
      "[9029, 9028, 9027, 9026, 9024, 9021, 9020, 9018, 9016, 9015, 9014]\n",
      "[9014, 9013, 9010, 9029]\n",
      "[9014, 9013, 9010, 9009, 9029]\n",
      "[9014, 9012]\n",
      "[9012, 9010, 9029]\n",
      "[9012, 9010, 9009, 9029]\n",
      "[9029, 9028, 9027, 9026, 9024, 9021, 9020, 9018, 9017]\n",
      "[9019, 9010, 9029]\n",
      "[9029, 9028, 9027, 9026, 9024, 9021, 9018, 9016, 9015, 9014]\n",
      "[9029, 9028, 9027, 9026, 9024, 9023, 9021, 9020, 9018, 9016, 9015, 9011]\n",
      "[9029, 9028, 9027, 9026, 9024, 9023, 9021, 9020, 9018, 9016, 9015, 9014]\n",
      "[9029, 9028, 9027, 9026, 9024, 9023, 9021, 9020, 9018, 9016, 9011]\n",
      "[9029, 9028, 9027, 9026, 9024, 9023, 9021, 9020, 9018, 9017]\n",
      "[9029, 9028, 9027, 9026, 9024, 9023, 9021, 9020, 9019]\n",
      "[9029, 9028, 9027, 9026, 9024, 9023, 9021, 9018, 9016, 9015, 9011]\n",
      "[9029, 9028, 9027, 9026, 9024, 9023, 9021, 9018, 9016, 9015, 9014]\n",
      "[9029, 9028, 9027, 9026, 9024, 9023, 9021, 9018, 9016, 9011]\n",
      "[9029, 9028, 9027, 9026, 9024, 9023, 9021, 9018, 9017]\n",
      "[9022, 9010, 9029]\n",
      "[9025, 9010, 9029]\n",
      "[11013, 11012, 11006, 11004]\n",
      "[11013, 11006, 11005, 11001]\n",
      "[18007, 18006, 18004, 18010]\n",
      "[18009, 18008, 18006, 18004, 18010]\n",
      "[18009, 18008, 18006, 18005, 18003, 18010]\n",
      "[18009, 18008, 18006, 18005, 18004, 18010]\n",
      "[18009, 18006, 18005, 18004, 18010]\n"
     ]
    }
   ],
   "source": [
    "for path in m2m_paths:\n",
    "    if not is_covered_by_traces(path, traces):\n",
    "        print(path)"
   ]
  },
  {
   "cell_type": "code",
   "execution_count": null,
   "metadata": {
    "collapsed": true
   },
   "outputs": [],
   "source": []
  }
 ],
 "metadata": {
  "kernelspec": {
   "display_name": "Python 3",
   "language": "python",
   "name": "python3"
  },
  "language_info": {
   "codemirror_mode": {
    "name": "ipython",
    "version": 3
   },
   "file_extension": ".py",
   "mimetype": "text/x-python",
   "name": "python",
   "nbconvert_exporter": "python",
   "pygments_lexer": "ipython3",
   "version": "3.6.0"
  }
 },
 "nbformat": 4,
 "nbformat_minor": 2
}
